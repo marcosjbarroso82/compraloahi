{
 "metadata": {
  "name": "",
  "signature": "sha256:ebc463e286b4ae12e7052a129f5a6e96b41017ec82353586d808502eb17e722e"
 },
 "nbformat": 3,
 "nbformat_minor": 0,
 "worksheets": [
  {
   "cells": [
    {
     "cell_type": "code",
     "collapsed": false,
     "input": [
      "from django.contrib.auth.models import User\n",
      "from apps.msg.models import Msg\n",
      "\n",
      "user = User.objects.get(username='demo1')\n",
      "\n",
      "print(user)\n",
      "\n",
      "inbox = Msg.objects.filter(recipient=user, recipient_deleted_at__isnull=True, thread__isnull=False).order_by('thread__pk', '-sent_at').distinct('thread__pk')\n",
      "\n",
      "from django.core import serializers\n",
      "\n",
      "data = serializers.serialize(\"json\", inbox, fields=('subject', 'id', 'thread', 'recipient', 'sender'))\n",
      "\n",
      "print(data)\n"
     ],
     "language": "python",
     "metadata": {},
     "outputs": [
      {
       "output_type": "stream",
       "stream": "stdout",
       "text": [
        "demo1\n",
        "[{\"model\": \"msg.msg\", \"fields\": {\"recipient\": 3, \"thread\": 53, \"subject\": \"Probando 1 mensajes...\", \"sender\": 2}, \"pk\": 53}, {\"model\": \"msg.msg\", \"fields\": {\"recipient\": 3, \"thread\": 54, \"subject\": \"Probando 2 mensajes...\", \"sender\": 2}, \"pk\": 54}, {\"model\": \"msg.msg\", \"fields\": {\"recipient\": 3, \"thread\": 55, \"subject\": \"Probando 3 mensajes...\", \"sender\": 2}, \"pk\": 55}, {\"model\": \"msg.msg\", \"fields\": {\"recipient\": 3, \"thread\": 56, \"subject\": \"Probando 4 mensajes...\", \"sender\": 2}, \"pk\": 56}, {\"model\": \"msg.msg\", \"fields\": {\"recipient\": 3, \"thread\": 57, \"subject\": \"Probando 5 mensajes...\", \"sender\": 2}, \"pk\": 57}]\n"
       ]
      }
     ],
     "prompt_number": 48
    },
    {
     "cell_type": "code",
     "collapsed": false,
     "input": [],
     "language": "python",
     "metadata": {},
     "outputs": [],
     "prompt_number": 10
    }
   ],
   "metadata": {}
  }
 ]
}